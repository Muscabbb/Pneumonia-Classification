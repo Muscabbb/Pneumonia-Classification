{
  "metadata": {
    "kernelspec": {
      "display_name": "Python 3",
      "name": "python3"
    },
    "language_info": {
      "pygments_lexer": "ipython3",
      "nbconvert_exporter": "python",
      "version": "3.6.4",
      "file_extension": ".py",
      "codemirror_mode": {
        "name": "ipython",
        "version": 3
      },
      "name": "python",
      "mimetype": "text/x-python"
    },
    "colab": {
      "provenance": [],
      "gpuType": "T4"
    },
    "accelerator": "GPU"
  },
  "nbformat_minor": 0,
  "nbformat": 4,
  "cells": [
    {
      "source": [
        "import kagglehub\n",
        "paultimothymooney_chest_xray_pneumonia_path = kagglehub.dataset_download('paultimothymooney/chest-xray-pneumonia')\n",
        "\n",
        "print('Data source import complete.'+ paultimothymooney_chest_xray_pneumonia_path)\n"
      ],
      "metadata": {
        "id": "Nd0fOPyFkUPV",
        "colab": {
          "base_uri": "https://localhost:8080/"
        },
        "outputId": "691dcde1-346f-46a2-983c-dbba0b22918a"
      },
      "cell_type": "code",
      "outputs": [
        {
          "output_type": "stream",
          "name": "stdout",
          "text": [
            "Data source import complete./kaggle/input/chest-xray-pneumonia\n"
          ]
        }
      ],
      "execution_count": 1
    },
    {
      "cell_type": "code",
      "source": [
        "import os\n",
        "import torch\n",
        "import numpy as np\n",
        "import matplotlib.pyplot as plt\n",
        "from torchvision import datasets, transforms\n",
        "from torch import nn, optim\n",
        "from torch.utils.data import DataLoader\n",
        "from tqdm import tqdm\n",
        "from sklearn.metrics import accuracy_score, confusion_matrix, classification_report, ConfusionMatrixDisplay"
      ],
      "metadata": {
        "_uuid": "8f2839f25d086af736a60e9eeb907d3b93b6e0e5",
        "_cell_guid": "b1076dfc-b9ad-4769-8c92-a6c4dae69d19",
        "execution": {
          "iopub.status.busy": "2021-11-06T08:11:42.791221Z",
          "iopub.execute_input": "2021-11-06T08:11:42.791498Z",
          "iopub.status.idle": "2021-11-06T08:11:44.382286Z",
          "shell.execute_reply.started": "2021-11-06T08:11:42.791421Z",
          "shell.execute_reply": "2021-11-06T08:11:44.381514Z"
        },
        "trusted": true,
        "id": "htMdpQrckUPa"
      },
      "execution_count": 2,
      "outputs": []
    },
    {
      "cell_type": "markdown",
      "source": [
        "# Constants"
      ],
      "metadata": {
        "id": "wjOpG93b3mbw"
      }
    },
    {
      "cell_type": "code",
      "source": [
        "data_dir = \"/root/.cache/kagglehub/datasets/paultimothymooney/chest-xray-pneumonia/versions/2/chest_xray\"\n",
        "TRAIN, VAL, TEST = 'train', 'val', 'test'\n",
        "BATCH_SIZE = 64\n",
        "EPOCHS = 10\n",
        "MODEL_PATH = \"pneumonia_cnn.pth\""
      ],
      "metadata": {
        "id": "oGOYqalY0cTX"
      },
      "execution_count": 3,
      "outputs": []
    },
    {
      "cell_type": "markdown",
      "source": [
        "# Data Transformations"
      ],
      "metadata": {
        "id": "yo_L8XkN06tl"
      }
    },
    {
      "cell_type": "code",
      "source": [
        "data_transforms = {\n",
        "    TRAIN: transforms.Compose([\n",
        "        transforms.Resize((256, 256)),\n",
        "        transforms.RandomHorizontalFlip(),\n",
        "        transforms.RandomRotation(20),\n",
        "        transforms.CenterCrop(224),\n",
        "        transforms.ToTensor(),\n",
        "        transforms.Normalize([0.485,0.456,0.406],[0.229,0.224,0.225]),\n",
        "    ]),\n",
        "    VAL: transforms.Compose([\n",
        "        transforms.Resize((224,224)),\n",
        "        transforms.ToTensor(),\n",
        "        transforms.Normalize([0.485,0.456,0.406],[0.229,0.224,0.225]),\n",
        "    ]),\n",
        "    TEST: transforms.Compose([\n",
        "        transforms.Resize((224,224)),\n",
        "        transforms.ToTensor(),\n",
        "        transforms.Normalize([0.485,0.456,0.406],[0.229,0.224,0.225]),\n",
        "    ]),\n",
        "}"
      ],
      "metadata": {
        "execution": {
          "iopub.status.busy": "2021-11-06T08:11:44.384032Z",
          "iopub.execute_input": "2021-11-06T08:11:44.384324Z",
          "iopub.status.idle": "2021-11-06T08:11:44.391481Z",
          "shell.execute_reply.started": "2021-11-06T08:11:44.384285Z",
          "shell.execute_reply": "2021-11-06T08:11:44.390806Z"
        },
        "trusted": true,
        "id": "apflu4bQkUPe"
      },
      "execution_count": 4,
      "outputs": []
    },
    {
      "cell_type": "markdown",
      "source": [
        "# Datasets & Dataloaders"
      ],
      "metadata": {
        "id": "tEuNPEoP0_Rn"
      }
    },
    {
      "cell_type": "code",
      "source": [
        "trainset = datasets.ImageFolder(os.path.join(data_dir, TRAIN), transform=data_transforms[TRAIN])\n",
        "validset = datasets.ImageFolder(os.path.join(data_dir, VAL),   transform=data_transforms[VAL])\n",
        "testset  = datasets.ImageFolder(os.path.join(data_dir, TEST),  transform=data_transforms[TEST])\n",
        "\n",
        "trainloader = DataLoader(trainset, batch_size=BATCH_SIZE, shuffle=True,  num_workers=2)\n",
        "validloader = DataLoader(validset, batch_size=BATCH_SIZE, shuffle=False, num_workers=2)\n",
        "testloader  = DataLoader(testset,  batch_size=BATCH_SIZE, shuffle=False, num_workers=2)\n",
        "\n",
        "class_names = trainset.classes\n",
        "print(\"Classes:\", class_names)"
      ],
      "metadata": {
        "execution": {
          "iopub.status.busy": "2021-11-06T08:11:44.39278Z",
          "iopub.execute_input": "2021-11-06T08:11:44.393643Z",
          "iopub.status.idle": "2021-11-06T08:11:49.220291Z",
          "shell.execute_reply.started": "2021-11-06T08:11:44.393571Z",
          "shell.execute_reply": "2021-11-06T08:11:49.21954Z"
        },
        "trusted": true,
        "id": "_9zvfx7LkUPf",
        "colab": {
          "base_uri": "https://localhost:8080/"
        },
        "outputId": "16e6639e-f680-49a5-9d95-f006b6758a98"
      },
      "execution_count": 5,
      "outputs": [
        {
          "output_type": "stream",
          "name": "stdout",
          "text": [
            "Classes: ['NORMAL', 'PNEUMONIA']\n"
          ]
        }
      ]
    },
    {
      "cell_type": "markdown",
      "source": [
        "# Device Configuration"
      ],
      "metadata": {
        "id": "0IKKCKpG4Cq0"
      }
    },
    {
      "cell_type": "code",
      "source": [
        "device = torch.device(\"cuda\" if torch.cuda.is_available() else \"cpu\")\n",
        "print(f\"Using device: {device}\")"
      ],
      "metadata": {
        "colab": {
          "base_uri": "https://localhost:8080/"
        },
        "id": "uL6iY3Au4Dz9",
        "outputId": "00a690bc-f4e4-4cd7-e390-f0515beb622c"
      },
      "execution_count": 6,
      "outputs": [
        {
          "output_type": "stream",
          "name": "stdout",
          "text": [
            "Using device: cuda\n"
          ]
        }
      ]
    },
    {
      "cell_type": "markdown",
      "source": [
        "# Model Definition"
      ],
      "metadata": {
        "id": "b2aZ7RId4r24"
      }
    },
    {
      "cell_type": "code",
      "source": [
        "class PneumoniaCNN(nn.Module):\n",
        "    def __init__(self, num_classes=2):\n",
        "        super().__init__()\n",
        "        self.features = nn.Sequential(\n",
        "            # Conv Block 1\n",
        "            nn.Conv2d(3, 32, kernel_size=3, padding=1), nn.BatchNorm2d(32), nn.ReLU(inplace=True),\n",
        "            nn.MaxPool2d(2),\n",
        "            # Conv Block 2\n",
        "            nn.Conv2d(32, 64, kernel_size=3, padding=1), nn.BatchNorm2d(64), nn.ReLU(inplace=True),\n",
        "            nn.MaxPool2d(2),\n",
        "            # Conv Block 3\n",
        "            nn.Conv2d(64, 128, kernel_size=3, padding=1), nn.BatchNorm2d(128), nn.ReLU(inplace=True),\n",
        "            nn.MaxPool2d(2),\n",
        "            # Conv Block 4\n",
        "            nn.Conv2d(128, 256, kernel_size=3, padding=1), nn.BatchNorm2d(256), nn.ReLU(inplace=True),\n",
        "            nn.MaxPool2d(2),\n",
        "        )\n",
        "        self.classifier = nn.Sequential(\n",
        "            nn.Dropout(0.5),\n",
        "            nn.Linear(256 * 14 * 14, 512),  # assuming input 224x224 → 14x14 after 4×pool2\n",
        "            nn.ReLU(inplace=True),\n",
        "            nn.Dropout(0.5),\n",
        "            nn.Linear(512, num_classes)\n",
        "        )\n",
        "    def forward(self, x):\n",
        "        x = self.features(x)\n",
        "        x = x.view(x.size(0), -1)\n",
        "        x = self.classifier(x)\n",
        "        return x"
      ],
      "metadata": {
        "execution": {
          "iopub.status.busy": "2021-11-06T08:14:04.867771Z",
          "iopub.execute_input": "2021-11-06T08:14:04.868271Z",
          "iopub.status.idle": "2021-11-06T08:14:04.881455Z",
          "shell.execute_reply.started": "2021-11-06T08:14:04.868235Z",
          "shell.execute_reply": "2021-11-06T08:14:04.880799Z"
        },
        "trusted": true,
        "id": "iWK4yWqokUPm"
      },
      "execution_count": 7,
      "outputs": []
    },
    {
      "cell_type": "code",
      "source": [
        "model = PneumoniaCNN().to(device)"
      ],
      "metadata": {
        "id": "fw-lQe60-YkW"
      },
      "execution_count": 8,
      "outputs": []
    },
    {
      "cell_type": "markdown",
      "source": [
        "# Loss, Optimizer, Scheduler"
      ],
      "metadata": {
        "id": "NxkTkU375WBz"
      }
    },
    {
      "cell_type": "code",
      "source": [
        "criterion = nn.CrossEntropyLoss()\n",
        "optimizer = optim.Adam(model.parameters(), lr=1e-3, weight_decay=1e-4)\n",
        "scheduler = optim.lr_scheduler.StepLR(optimizer, step_size=5, gamma=0.5)"
      ],
      "metadata": {
        "execution": {
          "iopub.status.busy": "2021-11-06T08:14:04.882353Z",
          "iopub.execute_input": "2021-11-06T08:14:04.883358Z",
          "iopub.status.idle": "2021-11-06T08:14:20.556217Z",
          "shell.execute_reply.started": "2021-11-06T08:14:04.883322Z",
          "shell.execute_reply": "2021-11-06T08:14:20.555226Z"
        },
        "trusted": true,
        "id": "ZD80B4lrkUPo"
      },
      "execution_count": 9,
      "outputs": []
    },
    {
      "cell_type": "markdown",
      "source": [
        "# Training Function with Validation"
      ],
      "metadata": {
        "id": "9IbfRGqX5erO"
      }
    },
    {
      "cell_type": "code",
      "source": [
        "def train_model(model, trainloader, validloader, epochs):\n",
        "    history = {'train_loss':[], 'train_acc':[], 'val_loss':[], 'val_acc':[]}\n",
        "    best_val_acc = 0.0\n",
        "    best_state = None\n",
        "\n",
        "    for epoch in range(1, epochs+1):\n",
        "        # -- Training --\n",
        "        model.train()\n",
        "        running_loss = running_corrects = 0\n",
        "        for inputs, labels in tqdm(trainloader, desc=f\"Epoch {epoch}/{epochs} [Train]\", leave=False):\n",
        "            inputs, labels = inputs.to(device), labels.to(device)\n",
        "            optimizer.zero_grad()\n",
        "            outputs = model(inputs)\n",
        "            loss = criterion(outputs, labels)\n",
        "            loss.backward()\n",
        "            optimizer.step()\n",
        "\n",
        "            running_loss += loss.item() * inputs.size(0)\n",
        "            preds = outputs.argmax(dim=1)\n",
        "            running_corrects += (preds == labels).sum().item()\n",
        "\n",
        "        epoch_loss = running_loss / len(trainloader.dataset)\n",
        "        epoch_acc  = running_corrects / len(trainloader.dataset)\n",
        "        history['train_loss'].append(epoch_loss)\n",
        "        history['train_acc'].append(epoch_acc)\n",
        "\n",
        "        # -- Validation --\n",
        "        model.eval()\n",
        "        val_loss = val_corrects = 0\n",
        "        with torch.no_grad():\n",
        "            for inputs, labels in validloader:\n",
        "                inputs, labels = inputs.to(device), labels.to(device)\n",
        "                outputs = model(inputs)\n",
        "                loss = criterion(outputs, labels)\n",
        "                val_loss += loss.item() * inputs.size(0)\n",
        "                preds = outputs.argmax(dim=1)\n",
        "                val_corrects += (preds == labels).sum().item()\n",
        "\n",
        "        val_loss = val_loss / len(validloader.dataset)\n",
        "        val_acc  = val_corrects / len(validloader.dataset)\n",
        "        history['val_loss'].append(val_loss)\n",
        "        history['val_acc'].append(val_acc)\n",
        "\n",
        "        scheduler.step()\n",
        "\n",
        "        print(f\"Epoch {epoch}/{epochs} → \"\n",
        "              f\"Train: loss={epoch_loss:.4f}, acc={epoch_acc*100:.2f}% | \"\n",
        "              f\" Val: loss={val_loss:.4f}, acc={val_acc*100:.2f}%\")\n",
        "\n",
        "        # Save best\n",
        "        if val_acc > best_val_acc:\n",
        "            best_val_acc = val_acc\n",
        "            best_state = model.state_dict()\n",
        "\n",
        "    # load best\n",
        "    if best_state is not None:\n",
        "        model.load_state_dict(best_state)\n",
        "        print(f\"\\nLoaded best model with val_acc={best_val_acc*100:.2f}%\")\n",
        "\n",
        "    return history"
      ],
      "metadata": {
        "execution": {
          "iopub.status.busy": "2021-11-06T08:14:20.559598Z",
          "iopub.execute_input": "2021-11-06T08:14:20.559829Z",
          "iopub.status.idle": "2021-11-06T08:14:20.574292Z",
          "shell.execute_reply.started": "2021-11-06T08:14:20.559802Z",
          "shell.execute_reply": "2021-11-06T08:14:20.573603Z"
        },
        "trusted": true,
        "id": "deSrTRSfkUPq"
      },
      "execution_count": 10,
      "outputs": []
    },
    {
      "cell_type": "markdown",
      "source": [
        "# Train the Model"
      ],
      "metadata": {
        "id": "iKvHXQfA5nla"
      }
    },
    {
      "cell_type": "code",
      "source": [
        "history = train_model(model, trainloader, validloader, EPOCHS)"
      ],
      "metadata": {
        "execution": {
          "iopub.status.busy": "2021-11-06T08:15:06.207428Z",
          "iopub.execute_input": "2021-11-06T08:15:06.207685Z",
          "iopub.status.idle": "2021-11-06T08:30:28.182285Z",
          "shell.execute_reply.started": "2021-11-06T08:15:06.207656Z",
          "shell.execute_reply": "2021-11-06T08:30:28.181538Z"
        },
        "trusted": true,
        "id": "eVuREmY9kUPt",
        "colab": {
          "base_uri": "https://localhost:8080/"
        },
        "outputId": "5058669e-f11d-43fd-dfed-3d7fb926afc8"
      },
      "execution_count": 11,
      "outputs": [
        {
          "output_type": "stream",
          "name": "stderr",
          "text": []
        },
        {
          "output_type": "stream",
          "name": "stdout",
          "text": [
            "Epoch 1/10 → Train: loss=1.6321, acc=83.84% |  Val: loss=2.2736, acc=62.50%\n"
          ]
        },
        {
          "output_type": "stream",
          "name": "stderr",
          "text": []
        },
        {
          "output_type": "stream",
          "name": "stdout",
          "text": [
            "Epoch 2/10 → Train: loss=0.2038, acc=91.95% |  Val: loss=2.4572, acc=62.50%\n"
          ]
        },
        {
          "output_type": "stream",
          "name": "stderr",
          "text": []
        },
        {
          "output_type": "stream",
          "name": "stdout",
          "text": [
            "Epoch 3/10 → Train: loss=0.1778, acc=93.81% |  Val: loss=0.6582, acc=62.50%\n"
          ]
        },
        {
          "output_type": "stream",
          "name": "stderr",
          "text": []
        },
        {
          "output_type": "stream",
          "name": "stdout",
          "text": [
            "Epoch 4/10 → Train: loss=0.1668, acc=94.06% |  Val: loss=4.1635, acc=62.50%\n"
          ]
        },
        {
          "output_type": "stream",
          "name": "stderr",
          "text": []
        },
        {
          "output_type": "stream",
          "name": "stdout",
          "text": [
            "Epoch 5/10 → Train: loss=0.1526, acc=95.13% |  Val: loss=1.6511, acc=62.50%\n"
          ]
        },
        {
          "output_type": "stream",
          "name": "stderr",
          "text": []
        },
        {
          "output_type": "stream",
          "name": "stdout",
          "text": [
            "Epoch 6/10 → Train: loss=0.1388, acc=96.09% |  Val: loss=1.1252, acc=68.75%\n"
          ]
        },
        {
          "output_type": "stream",
          "name": "stderr",
          "text": []
        },
        {
          "output_type": "stream",
          "name": "stdout",
          "text": [
            "Epoch 7/10 → Train: loss=0.1325, acc=95.94% |  Val: loss=0.8927, acc=68.75%\n"
          ]
        },
        {
          "output_type": "stream",
          "name": "stderr",
          "text": []
        },
        {
          "output_type": "stream",
          "name": "stdout",
          "text": [
            "Epoch 8/10 → Train: loss=0.1324, acc=95.59% |  Val: loss=1.4376, acc=50.00%\n"
          ]
        },
        {
          "output_type": "stream",
          "name": "stderr",
          "text": []
        },
        {
          "output_type": "stream",
          "name": "stdout",
          "text": [
            "Epoch 9/10 → Train: loss=0.1250, acc=96.09% |  Val: loss=1.0552, acc=68.75%\n"
          ]
        },
        {
          "output_type": "stream",
          "name": "stderr",
          "text": []
        },
        {
          "output_type": "stream",
          "name": "stdout",
          "text": [
            "Epoch 10/10 → Train: loss=0.1276, acc=96.15% |  Val: loss=1.4824, acc=62.50%\n",
            "\n",
            "Loaded best model with val_acc=68.75%\n"
          ]
        }
      ]
    },
    {
      "cell_type": "markdown",
      "source": [
        "# Plot Training Curves"
      ],
      "metadata": {
        "id": "1BvwoRlOUbDO"
      }
    },
    {
      "cell_type": "code",
      "source": [
        "plt.figure(figsize=(12,4))\n",
        "plt.subplot(1,2,1)\n",
        "plt.plot(history['train_loss'], label='Train Loss')\n",
        "plt.plot(history['val_loss'],   label='Val Loss')\n",
        "plt.legend(); plt.title(\"Loss\")\n",
        "\n",
        "plt.subplot(1,2,2)\n",
        "plt.plot(history['train_acc'], label='Train Acc')\n",
        "plt.plot(history['val_acc'],   label='Val Acc')\n",
        "plt.legend(); plt.title(\"Accuracy\")\n",
        "plt.show()"
      ],
      "metadata": {
        "colab": {
          "base_uri": "https://localhost:8080/",
          "height": 376
        },
        "id": "gL5acBJNUdms",
        "outputId": "c00af43d-a320-47ef-b6cd-93c93d2ce12e"
      },
      "execution_count": 12,
      "outputs": [
        {
          "output_type": "display_data",
          "data": {
            "text/plain": [
              "<Figure size 1200x400 with 2 Axes>"
            ],
            "image/png": "[encoded data removed]"
          },
          "metadata": {}
        }
      ]
    },
    {
      "cell_type": "markdown",
      "source": [
        "# Final Testing with Metrics"
      ],
      "metadata": {
        "id": "76locyIM5xHB"
      }
    },
    {
      "cell_type": "code",
      "source": [
        "model.eval()\n",
        "y_true, y_pred = [], []\n",
        "with torch.no_grad():\n",
        "    for inputs, labels in testloader:\n",
        "        inputs, labels = inputs.to(device), labels.to(device)\n",
        "        outputs = model(inputs)\n",
        "        preds = outputs.argmax(dim=1)\n",
        "        y_true.extend(labels.cpu().numpy())\n",
        "        y_pred.extend(preds.cpu().numpy())\n",
        "\n",
        "test_acc = accuracy_score(y_true, y_pred)\n",
        "print(f\"\\n✅ Test Accuracy: {test_acc*100:.2f}%\\n\")\n",
        "print(\"📋 Classification Report:\")\n",
        "print(classification_report(y_true, y_pred, target_names=class_names))"
      ],
      "metadata": {
        "colab": {
          "base_uri": "https://localhost:8080/"
        },
        "id": "nxeAi_xd548n",
        "outputId": "207b4ddd-8e80-40e3-a565-adeea232809b"
      },
      "execution_count": 13,
      "outputs": [
        {
          "output_type": "stream",
          "name": "stdout",
          "text": [
            "\n",
            "✅ Test Accuracy: 80.61%\n",
            "\n",
            "📋 Classification Report:\n",
            "              precision    recall  f1-score   support\n",
            "\n",
            "      NORMAL       0.97      0.50      0.66       234\n",
            "   PNEUMONIA       0.77      0.99      0.86       390\n",
            "\n",
            "    accuracy                           0.81       624\n",
            "   macro avg       0.87      0.74      0.76       624\n",
            "weighted avg       0.84      0.81      0.79       624\n",
            "\n"
          ]
        }
      ]
    },
    {
      "cell_type": "markdown",
      "source": [
        "# Metrics"
      ],
      "metadata": {
        "id": "SwAhilt255-U"
      }
    },
    {
      "cell_type": "code",
      "source": [
        "cm = confusion_matrix(y_true, y_pred)\n",
        "disp = ConfusionMatrixDisplay(cm, display_labels=class_names)\n",
        "disp.plot(cmap='Blues')\n",
        "plt.title(\"Confusion Matrix\")\n",
        "plt.show()"
      ],
      "metadata": {
        "execution": {
          "iopub.status.busy": "2021-11-06T08:30:28.184039Z",
          "iopub.execute_input": "2021-11-06T08:30:28.184477Z",
          "iopub.status.idle": "2021-11-06T08:30:43.292386Z",
          "shell.execute_reply.started": "2021-11-06T08:30:28.184437Z",
          "shell.execute_reply": "2021-11-06T08:30:43.291581Z"
        },
        "trusted": true,
        "id": "xhm9xQTukUPu",
        "colab": {
          "base_uri": "https://localhost:8080/",
          "height": 472
        },
        "outputId": "d283af47-67a0-42ae-df81-feae397e4397"
      },
      "execution_count": 14,
      "outputs": [
        {
          "output_type": "display_data",
          "data": {
            "text/plain": [
              "<Figure size 640x480 with 2 Axes>"
            ],
            "image/png": "[encoded data removed]"
          },
          "metadata": {}
        }
      ]
    },
    {
      "cell_type": "markdown",
      "source": [
        "# Save & Load Model"
      ],
      "metadata": {
        "id": "U9K7204IVDif"
      }
    },
    {
      "cell_type": "code",
      "source": [
        "torch.save(model.state_dict(), MODEL_PATH)\n",
        "print(f\"Model saved to {MODEL_PATH}\")\n",
        "\n",
        "# To reload later:\n",
        "# loaded_model = PneumoniaCNN().to(device)\n",
        "# loaded_model.load_state_dict(torch.load(MODEL_PATH))\n",
        "# loaded_model.eval()"
      ],
      "metadata": {
        "colab": {
          "base_uri": "https://localhost:8080/"
        },
        "id": "uoIwAkksVGsF",
        "outputId": "48ad8a7b-c336-4a2c-994e-9142a1568242"
      },
      "execution_count": 15,
      "outputs": [
        {
          "output_type": "stream",
          "name": "stdout",
          "text": [
            "Model saved to pneumonia_cnn.pth\n"
          ]
        }
      ]
    }
  ]
}